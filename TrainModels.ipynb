{
 "cells": [
  {
   "cell_type": "code",
   "execution_count": 1,
   "id": "a1446904-ff7c-4bcd-abb5-5565ab4f9650",
   "metadata": {},
   "outputs": [],
   "source": [
    "import pandas as pd\n",
    "import numpy as np\n",
    "from sklearn.model_selection import train_test_split\n",
    "from sklearn.preprocessing import LabelEncoder\n",
    "from sklearn.ensemble import RandomForestClassifier\n",
    "from sklearn.svm import SVC\n",
    "from sklearn.neural_network import MLPClassifier\n",
    "from sklearn.neighbors import KNeighborsClassifier\n",
    "from sklearn.linear_model import LogisticRegression\n",
    "from sklearn.metrics import accuracy_score, classification_report\n",
    "from sklearn.preprocessing import StandardScaler\n",
    "from tensorflow.keras.models import Sequential\n",
    "from tensorflow.keras.layers import Conv1D, MaxPooling1D, Flatten, Dense, Dropout, Input\n",
    "from tensorflow.keras.optimizers import Adam\n",
    "from sklearn.metrics import accuracy_score, classification_report\n",
    "import pickle\n",
    "from sklearn.metrics import confusion_matrix\n",
    "import seaborn as sns\n",
    "import matplotlib.pyplot as plt"
   ]
  },
  {
   "cell_type": "code",
   "execution_count": 2,
   "id": "c688c68b-cb16-44e3-ac70-b58d9ec44a90",
   "metadata": {},
   "outputs": [],
   "source": [
    "# Load the dataset from CSV\n",
    "data = pd.read_csv('data/features_full_v7.csv')\n",
    "\n",
    "# Drop the 'file' column (not useful for training)\n",
    "data = data.drop(columns=['file'])\n",
    "\n",
    "# Separate features (X) and labels (y)\n",
    "X = data.drop(columns=['label'])\n",
    "y = data['label']\n",
    "\n",
    "# Encode the labels (e.g., happy, sad, etc.)\n",
    "label_encoder = LabelEncoder()\n",
    "y_encoded = label_encoder.fit_transform(y)\n",
    "\n",
    "# Split data into training and testing sets\n",
    "X_train, X_test, y_train, y_test = train_test_split(X, y_encoded, test_size=0.2, random_state=42)\n",
    "\n",
    "# Feature scaling (normalize features)\n",
    "scaler = StandardScaler()\n",
    "X_train = scaler.fit_transform(X_train)\n",
    "X_test = scaler.transform(X_test)"
   ]
  },
  {
   "cell_type": "code",
   "execution_count": 3,
   "id": "6cece6cf-26ca-44c2-8102-ee0c3f1a902e",
   "metadata": {},
   "outputs": [
    {
     "data": {
      "text/plain": [
       "array(['fearful', 'pumpup', 'relaxing ', 'sad'], dtype=object)"
      ]
     },
     "execution_count": 3,
     "metadata": {},
     "output_type": "execute_result"
    }
   ],
   "source": [
    "label_encoder.classes_"
   ]
  },
  {
   "cell_type": "code",
   "execution_count": 4,
   "id": "95068ca1-4df2-4aab-b10b-5d5ea1f90981",
   "metadata": {},
   "outputs": [
    {
     "name": "stdout",
     "output_type": "stream",
     "text": [
      "Training Random Forest...\n",
      "Random Forest Accuracy: 0.5789\n",
      "Classification Report for Random Forest:\n",
      "              precision    recall  f1-score   support\n",
      "\n",
      "           0       0.33      0.50      0.40         8\n",
      "           1       0.80      0.50      0.62         8\n",
      "           2       0.73      0.67      0.70        12\n",
      "           3       0.60      0.60      0.60        10\n",
      "\n",
      "    accuracy                           0.58        38\n",
      "   macro avg       0.62      0.57      0.58        38\n",
      "weighted avg       0.63      0.58      0.59        38\n",
      "\n",
      "\n",
      "Training SVM...\n",
      "SVM Accuracy: 0.5789\n",
      "Classification Report for SVM:\n",
      "              precision    recall  f1-score   support\n",
      "\n",
      "           0       0.30      0.38      0.33         8\n",
      "           1       0.83      0.62      0.71         8\n",
      "           2       0.89      0.67      0.76        12\n",
      "           3       0.46      0.60      0.52        10\n",
      "\n",
      "    accuracy                           0.58        38\n",
      "   macro avg       0.62      0.57      0.58        38\n",
      "weighted avg       0.64      0.58      0.60        38\n",
      "\n",
      "\n",
      "Training Neural Network...\n",
      "Neural Network Accuracy: 0.5000\n",
      "Classification Report for Neural Network:\n",
      "              precision    recall  f1-score   support\n",
      "\n",
      "           0       0.22      0.25      0.24         8\n",
      "           1       0.86      0.75      0.80         8\n",
      "           2       0.73      0.67      0.70        12\n",
      "           3       0.27      0.30      0.29        10\n",
      "\n",
      "    accuracy                           0.50        38\n",
      "   macro avg       0.52      0.49      0.50        38\n",
      "weighted avg       0.53      0.50      0.51        38\n",
      "\n",
      "\n",
      "Training K-Nearest Neighbors...\n",
      "K-Nearest Neighbors Accuracy: 0.5526\n",
      "Classification Report for K-Nearest Neighbors:\n",
      "              precision    recall  f1-score   support\n",
      "\n",
      "           0       0.27      0.38      0.32         8\n",
      "           1       0.80      0.50      0.62         8\n",
      "           2       0.67      0.67      0.67        12\n",
      "           3       0.60      0.60      0.60        10\n",
      "\n",
      "    accuracy                           0.55        38\n",
      "   macro avg       0.58      0.54      0.55        38\n",
      "weighted avg       0.59      0.55      0.56        38\n",
      "\n",
      "\n",
      "Training Logistic Regression...\n",
      "Logistic Regression Accuracy: 0.5789\n",
      "Classification Report for Logistic Regression:\n",
      "              precision    recall  f1-score   support\n",
      "\n",
      "           0       0.33      0.38      0.35         8\n",
      "           1       0.75      0.75      0.75         8\n",
      "           2       0.69      0.75      0.72        12\n",
      "           3       0.50      0.40      0.44        10\n",
      "\n",
      "    accuracy                           0.58        38\n",
      "   macro avg       0.57      0.57      0.57        38\n",
      "weighted avg       0.58      0.58      0.58        38\n",
      "\n",
      "\n"
     ]
    }
   ],
   "source": [
    "# Define a dictionary of models to train\n",
    "models = {\n",
    "    \"Random Forest\": RandomForestClassifier(n_estimators=100, random_state=42),\n",
    "    \"SVM\": SVC(kernel='rbf', C=1, random_state=42),\n",
    "    \"Neural Network\": MLPClassifier(hidden_layer_sizes=(100, 50), max_iter=1000, random_state=42),\n",
    "    \"K-Nearest Neighbors\": KNeighborsClassifier(n_neighbors=5),\n",
    "    \"Logistic Regression\": LogisticRegression(max_iter=1000, random_state=42)\n",
    "}\n",
    "\n",
    "# Dictionary to store accuracies\n",
    "model_accuracies = {}\n",
    "\n",
    "# Iterate through the models\n",
    "for model_name, model in models.items():\n",
    "    print(f\"Training {model_name}...\")\n",
    "    \n",
    "    # Train the model\n",
    "    model.fit(X_train, y_train)\n",
    "    \n",
    "    # Make predictions and evaluate the model\n",
    "    y_pred = model.predict(X_test)\n",
    "    \n",
    "    # Evaluate performance\n",
    "    accuracy = accuracy_score(y_test, y_pred)\n",
    "    model_accuracies[model_name] = accuracy\n",
    "    print(f\"{model_name} Accuracy: {accuracy:.4f}\")\n",
    "    \n",
    "    # Print detailed classification report\n",
    "    print(f\"Classification Report for {model_name}:\\n{classification_report(y_test, y_pred)}\\n\")\n",
    "\n",
    "# Convert the accuracies into a pandas DataFrame\n",
    "results_df = pd.DataFrame(list(model_accuracies.items()), columns=[\"Model\", \"Accuracy\"])"
   ]
  },
  {
   "cell_type": "code",
   "execution_count": 5,
   "id": "abca9294-9667-4ca9-8caa-5194022da954",
   "metadata": {},
   "outputs": [],
   "source": [
    "# Train cnn model\n",
    "\n",
    "# Reshape X to be 3D (samples, time_steps, features) for CNN input\n",
    "X_train_cnn = np.expand_dims(X_train, axis=2)  # Shape: (n_samples, n_features, 1)\n",
    "X_test_cnn = np.expand_dims(X_test, axis=2)    # Shape: (n_samples, n_features, 1)\n",
    "\n",
    "# Define the CNN model architecture without pooling layers\n",
    "model = Sequential([\n",
    "    Input(shape=(X_train_cnn.shape[1], X_train_cnn.shape[2])),  # Define the input shape\n",
    "    Conv1D(64, 3, activation='relu'),\n",
    "    Dropout(0.5),\n",
    "\n",
    "    Conv1D(128, 3, activation='relu'),\n",
    "    Dropout(0.5),\n",
    "\n",
    "    Flatten(),  # Flatten the output to connect it to the dense layers\n",
    "    \n",
    "    Dense(128, activation='relu'),\n",
    "    Dropout(0.5),\n",
    "\n",
    "    Dense(len(label_encoder.classes_), activation='softmax')  # Output layer for multi-class classification\n",
    "])"
   ]
  },
  {
   "cell_type": "code",
   "execution_count": 6,
   "id": "1d94c996-33cc-4e8e-81b3-59343b8e565d",
   "metadata": {},
   "outputs": [],
   "source": [
    "# Compile the model\n",
    "model.compile(optimizer=Adam(), loss='sparse_categorical_crossentropy', metrics=['accuracy'])"
   ]
  },
  {
   "cell_type": "code",
   "execution_count": 7,
   "id": "488ba769-be17-41ac-b912-92a262c70aa7",
   "metadata": {},
   "outputs": [
    {
     "name": "stdout",
     "output_type": "stream",
     "text": [
      "Epoch 1/20\n",
      "\u001b[1m5/5\u001b[0m \u001b[32m━━━━━━━━━━━━━━━━━━━━\u001b[0m\u001b[37m\u001b[0m \u001b[1m0s\u001b[0m 23ms/step - accuracy: 0.2505 - loss: 1.4017 - val_accuracy: 0.4737 - val_loss: 1.3320\n",
      "Epoch 2/20\n",
      "\u001b[1m5/5\u001b[0m \u001b[32m━━━━━━━━━━━━━━━━━━━━\u001b[0m\u001b[37m\u001b[0m \u001b[1m0s\u001b[0m 8ms/step - accuracy: 0.3489 - loss: 1.3118 - val_accuracy: 0.5000 - val_loss: 1.2660\n",
      "Epoch 3/20\n",
      "\u001b[1m5/5\u001b[0m \u001b[32m━━━━━━━━━━━━━━━━━━━━\u001b[0m\u001b[37m\u001b[0m \u001b[1m0s\u001b[0m 11ms/step - accuracy: 0.4433 - loss: 1.2290 - val_accuracy: 0.4737 - val_loss: 1.1988\n",
      "Epoch 4/20\n",
      "\u001b[1m5/5\u001b[0m \u001b[32m━━━━━━━━━━━━━━━━━━━━\u001b[0m\u001b[37m\u001b[0m \u001b[1m0s\u001b[0m 8ms/step - accuracy: 0.4791 - loss: 1.2226 - val_accuracy: 0.5000 - val_loss: 1.1461\n",
      "Epoch 5/20\n",
      "\u001b[1m5/5\u001b[0m \u001b[32m━━━━━━━━━━━━━━━━━━━━\u001b[0m\u001b[37m\u001b[0m \u001b[1m0s\u001b[0m 8ms/step - accuracy: 0.4865 - loss: 1.1391 - val_accuracy: 0.5000 - val_loss: 1.0953\n",
      "Epoch 6/20\n",
      "\u001b[1m5/5\u001b[0m \u001b[32m━━━━━━━━━━━━━━━━━━━━\u001b[0m\u001b[37m\u001b[0m \u001b[1m0s\u001b[0m 8ms/step - accuracy: 0.5164 - loss: 1.0701 - val_accuracy: 0.5000 - val_loss: 1.0539\n",
      "Epoch 7/20\n",
      "\u001b[1m5/5\u001b[0m \u001b[32m━━━━━━━━━━━━━━━━━━━━\u001b[0m\u001b[37m\u001b[0m \u001b[1m0s\u001b[0m 8ms/step - accuracy: 0.5365 - loss: 0.9893 - val_accuracy: 0.5263 - val_loss: 1.0177\n",
      "Epoch 8/20\n",
      "\u001b[1m5/5\u001b[0m \u001b[32m━━━━━━━━━━━━━━━━━━━━\u001b[0m\u001b[37m\u001b[0m \u001b[1m0s\u001b[0m 8ms/step - accuracy: 0.5369 - loss: 1.0030 - val_accuracy: 0.5526 - val_loss: 0.9965\n",
      "Epoch 9/20\n",
      "\u001b[1m5/5\u001b[0m \u001b[32m━━━━━━━━━━━━━━━━━━━━\u001b[0m\u001b[37m\u001b[0m \u001b[1m0s\u001b[0m 8ms/step - accuracy: 0.5075 - loss: 1.0064 - val_accuracy: 0.5789 - val_loss: 0.9785\n",
      "Epoch 10/20\n",
      "\u001b[1m5/5\u001b[0m \u001b[32m━━━━━━━━━━━━━━━━━━━━\u001b[0m\u001b[37m\u001b[0m \u001b[1m0s\u001b[0m 8ms/step - accuracy: 0.5384 - loss: 0.9714 - val_accuracy: 0.5789 - val_loss: 0.9648\n",
      "Epoch 11/20\n",
      "\u001b[1m5/5\u001b[0m \u001b[32m━━━━━━━━━━━━━━━━━━━━\u001b[0m\u001b[37m\u001b[0m \u001b[1m0s\u001b[0m 7ms/step - accuracy: 0.5692 - loss: 0.9789 - val_accuracy: 0.5789 - val_loss: 0.9463\n",
      "Epoch 12/20\n",
      "\u001b[1m5/5\u001b[0m \u001b[32m━━━━━━━━━━━━━━━━━━━━\u001b[0m\u001b[37m\u001b[0m \u001b[1m0s\u001b[0m 7ms/step - accuracy: 0.6171 - loss: 0.9309 - val_accuracy: 0.5526 - val_loss: 0.9303\n",
      "Epoch 13/20\n",
      "\u001b[1m5/5\u001b[0m \u001b[32m━━━━━━━━━━━━━━━━━━━━\u001b[0m\u001b[37m\u001b[0m \u001b[1m0s\u001b[0m 8ms/step - accuracy: 0.6280 - loss: 0.9116 - val_accuracy: 0.5526 - val_loss: 0.9142\n",
      "Epoch 14/20\n",
      "\u001b[1m5/5\u001b[0m \u001b[32m━━━━━━━━━━━━━━━━━━━━\u001b[0m\u001b[37m\u001b[0m \u001b[1m0s\u001b[0m 8ms/step - accuracy: 0.5602 - loss: 0.9742 - val_accuracy: 0.5789 - val_loss: 0.8988\n",
      "Epoch 15/20\n",
      "\u001b[1m5/5\u001b[0m \u001b[32m━━━━━━━━━━━━━━━━━━━━\u001b[0m\u001b[37m\u001b[0m \u001b[1m0s\u001b[0m 8ms/step - accuracy: 0.5701 - loss: 0.9035 - val_accuracy: 0.5789 - val_loss: 0.8905\n",
      "Epoch 16/20\n",
      "\u001b[1m5/5\u001b[0m \u001b[32m━━━━━━━━━━━━━━━━━━━━\u001b[0m\u001b[37m\u001b[0m \u001b[1m0s\u001b[0m 8ms/step - accuracy: 0.5705 - loss: 0.8780 - val_accuracy: 0.5789 - val_loss: 0.8839\n",
      "Epoch 17/20\n",
      "\u001b[1m5/5\u001b[0m \u001b[32m━━━━━━━━━━━━━━━━━━━━\u001b[0m\u001b[37m\u001b[0m \u001b[1m0s\u001b[0m 8ms/step - accuracy: 0.5924 - loss: 0.9310 - val_accuracy: 0.5526 - val_loss: 0.8789\n",
      "Epoch 18/20\n",
      "\u001b[1m5/5\u001b[0m \u001b[32m━━━━━━━━━━━━━━━━━━━━\u001b[0m\u001b[37m\u001b[0m \u001b[1m0s\u001b[0m 7ms/step - accuracy: 0.5928 - loss: 0.9127 - val_accuracy: 0.5789 - val_loss: 0.8803\n",
      "Epoch 19/20\n",
      "\u001b[1m5/5\u001b[0m \u001b[32m━━━━━━━━━━━━━━━━━━━━\u001b[0m\u001b[37m\u001b[0m \u001b[1m0s\u001b[0m 7ms/step - accuracy: 0.5862 - loss: 0.9222 - val_accuracy: 0.5526 - val_loss: 0.8787\n",
      "Epoch 20/20\n",
      "\u001b[1m5/5\u001b[0m \u001b[32m━━━━━━━━━━━━━━━━━━━━\u001b[0m\u001b[37m\u001b[0m \u001b[1m0s\u001b[0m 8ms/step - accuracy: 0.5358 - loss: 0.8510 - val_accuracy: 0.5526 - val_loss: 0.8815\n"
     ]
    },
    {
     "data": {
      "text/plain": [
       "<keras.src.callbacks.history.History at 0x16b820ee0>"
      ]
     },
     "execution_count": 7,
     "metadata": {},
     "output_type": "execute_result"
    }
   ],
   "source": [
    "# Train the model without class weights\n",
    "model.fit(X_train_cnn, y_train, epochs=20, batch_size=32, validation_data=(X_test_cnn, y_test))"
   ]
  },
  {
   "cell_type": "code",
   "execution_count": 8,
   "id": "da2ae0c6-5d49-4571-bae0-42298a580144",
   "metadata": {},
   "outputs": [
    {
     "name": "stdout",
     "output_type": "stream",
     "text": [
      "\u001b[1m2/2\u001b[0m \u001b[32m━━━━━━━━━━━━━━━━━━━━\u001b[0m\u001b[37m\u001b[0m \u001b[1m0s\u001b[0m 29ms/step\n"
     ]
    }
   ],
   "source": [
    "# Evaluate the model\n",
    "y_pred = np.argmax(model.predict(X_test_cnn), axis=1)\n",
    "accuracy = accuracy_score(y_test, y_pred)"
   ]
  },
  {
   "cell_type": "code",
   "execution_count": 9,
   "id": "1f8a5038-a86b-4614-8ba9-2a1fad2cbafa",
   "metadata": {},
   "outputs": [
    {
     "name": "stdout",
     "output_type": "stream",
     "text": [
      "CNN Accuracy: 0.5526315789473685\n",
      "Classification Report for CNN:\n",
      "              precision    recall  f1-score   support\n",
      "\n",
      "           0       0.33      0.12      0.18         8\n",
      "           1       0.60      0.75      0.67         8\n",
      "           2       0.69      0.75      0.72        12\n",
      "           3       0.42      0.50      0.45        10\n",
      "\n",
      "    accuracy                           0.55        38\n",
      "   macro avg       0.51      0.53      0.51        38\n",
      "weighted avg       0.52      0.55      0.53        38\n",
      "\n"
     ]
    }
   ],
   "source": [
    "# Print the results\n",
    "print(f\"CNN Accuracy: {accuracy}\")\n",
    "print(\"Classification Report for CNN:\")\n",
    "print(classification_report(y_test, y_pred))\n",
    "\n",
    "# Add CNN accuracy to the dictionary\n",
    "model_accuracies[\"CNN\"] = accuracy"
   ]
  },
  {
   "cell_type": "code",
   "execution_count": 10,
   "id": "84aa0010-2d95-43ec-b3b1-8d8dc320ce30",
   "metadata": {},
   "outputs": [
    {
     "name": "stdout",
     "output_type": "stream",
     "text": [
      "\n",
      "Model Comparison Table:\n",
      "                 Model  Accuracy\n",
      "0        Random Forest  0.578947\n",
      "1                  SVM  0.578947\n",
      "2       Neural Network  0.500000\n",
      "3  K-Nearest Neighbors  0.552632\n",
      "4  Logistic Regression  0.578947\n",
      "5                  CNN  0.552632\n"
     ]
    }
   ],
   "source": [
    "# Display the results as a table\n",
    "# Convert the accuracies into a pandas DataFrame\n",
    "results_df = pd.DataFrame(list(model_accuracies.items()), columns=[\"Model\", \"Accuracy\"])\n",
    "print(\"\\nModel Comparison Table:\")\n",
    "print(results_df)"
   ]
  },
  {
   "cell_type": "code",
   "execution_count": 12,
   "id": "548896c9-a2a9-48af-924c-04b8064cbb24",
   "metadata": {},
   "outputs": [
    {
     "name": "stdout",
     "output_type": "stream",
     "text": [
      "SVM Accuracy: 0.5789\n",
      "Classification Report for SVM:\n",
      "              precision    recall  f1-score   support\n",
      "\n",
      "           0       0.30      0.38      0.33         8\n",
      "           1       0.83      0.62      0.71         8\n",
      "           2       0.89      0.67      0.76        12\n",
      "           3       0.46      0.60      0.52        10\n",
      "\n",
      "    accuracy                           0.58        38\n",
      "   macro avg       0.62      0.57      0.58        38\n",
      "weighted avg       0.64      0.58      0.60        38\n",
      "\n",
      "\n"
     ]
    }
   ],
   "source": [
    "# SVM had the best results, so we will use that\n",
    "# Accuracy (0.578947) is the same as Random Forest and Logistic Regression, but SVM has a slightly better weighted average f1-score than the others.\n",
    "model = SVC(kernel='rbf', C=1, random_state=42)\n",
    "model.fit(X_train, y_train)\n",
    "\n",
    "# Make predictions and evaluate the model\n",
    "y_pred = model.predict(X_test)\n",
    "\n",
    "# Evaluate performance\n",
    "model_name = \"SVM\"\n",
    "accuracy = accuracy_score(y_test, y_pred)\n",
    "model_accuracies[model_name] = accuracy\n",
    "print(f\"{model_name} Accuracy: {accuracy:.4f}\")\n",
    "\n",
    "# Print detailed classification report\n",
    "print(f\"Classification Report for {model_name}:\\n{classification_report(y_test, y_pred)}\\n\")"
   ]
  },
  {
   "cell_type": "code",
   "execution_count": 13,
   "id": "47b4eb7d-8f98-4fc8-b216-eaff90e635f6",
   "metadata": {},
   "outputs": [],
   "source": [
    "# Save the model to a file\n",
    "with open('SVM_model.pkl', 'wb') as f:\n",
    "    pickle.dump(model, f)"
   ]
  },
  {
   "cell_type": "code",
   "execution_count": 14,
   "id": "355ca207-c4bd-460c-9f33-b1491b003cdb",
   "metadata": {},
   "outputs": [],
   "source": [
    "# Save the Scaler\n",
    "with open('scaler.pkl', 'wb') as f:\n",
    "    pickle.dump(scaler, f)"
   ]
  },
  {
   "cell_type": "code",
   "execution_count": 15,
   "id": "5b2a0379-5f0e-4d93-8cd4-fe9416ea8fc6",
   "metadata": {},
   "outputs": [],
   "source": [
    "# Save the label encoder\n",
    "with open('label_encoder.pkl', 'wb') as f:\n",
    "    pickle.dump(label_encoder, f)"
   ]
  },
  {
   "cell_type": "code",
   "execution_count": 16,
   "id": "816ab359-e124-497a-9f6a-91632a5e9fac",
   "metadata": {},
   "outputs": [],
   "source": [
    "with open(\"SVM_model.pkl\", \"rb\") as f:\n",
    "    loaded_model = pickle.load(f)"
   ]
  },
  {
   "cell_type": "code",
   "execution_count": 17,
   "id": "179bff4f-137a-4785-9f6f-68b2345ffdbf",
   "metadata": {},
   "outputs": [],
   "source": [
    "with open(\"scaler.pkl\", \"rb\") as f:\n",
    "    scaler = pickle.load(f)"
   ]
  },
  {
   "cell_type": "code",
   "execution_count": 18,
   "id": "1f7e8242-ce60-4c95-8c7f-c1da32c0d98b",
   "metadata": {},
   "outputs": [],
   "source": [
    "with open('label_encoder.pkl', 'rb') as f:\n",
    "    label_encoder = pickle.load(f)"
   ]
  },
  {
   "cell_type": "code",
   "execution_count": 19,
   "id": "64207de0-f082-49df-b5e5-1d595b6d9b91",
   "metadata": {},
   "outputs": [],
   "source": [
    "#Predict and build confusion matrix\n",
    "y_pred = loaded_model.predict(X_test)\n",
    "cm = confusion_matrix(y_test, y_pred)"
   ]
  },
  {
   "cell_type": "code",
   "execution_count": 20,
   "id": "6a51e8b8-bdec-430e-bebd-5fb137f05430",
   "metadata": {},
   "outputs": [
    {
     "data": {
      "text/plain": [
       "array(['fearful', 'pumpup', 'relaxing ', 'sad'], dtype=object)"
      ]
     },
     "execution_count": 20,
     "metadata": {},
     "output_type": "execute_result"
    }
   ],
   "source": [
    "label_encoder.classes_"
   ]
  },
  {
   "cell_type": "code",
   "execution_count": 21,
   "id": "afe452eb-856c-40ca-a6ad-0bed1b424378",
   "metadata": {},
   "outputs": [
    {
     "data": {
      "image/png": "[encoded data removed]",
      "text/plain": [
       "<Figure size 640x480 with 2 Axes>"
      ]
     },
     "metadata": {},
     "output_type": "display_data"
    }
   ],
   "source": [
    "emotion_labels = label_encoder.classes_\n",
    "sns.heatmap(cm, annot=True, fmt='d', cmap='Blues',xticklabels=emotion_labels, yticklabels=emotion_labels)\n",
    "plt.xlabel('Predicted')\n",
    "plt.ylabel('Actual')\n",
    "plt.title('Confusion Matrix')\n",
    "plt.show()"
   ]
  },
  {
   "cell_type": "code",
   "execution_count": 22,
   "id": "8128e5de-1284-4502-8195-260aa3c60db8",
   "metadata": {},
   "outputs": [
    {
     "data": {
      "text/plain": [
       "<Figure size 640x480 with 0 Axes>"
      ]
     },
     "metadata": {},
     "output_type": "display_data"
    }
   ],
   "source": [
    "plt.savefig(\"confusion_matrix.png\")"
   ]
  }
 ],
 "metadata": {
  "kernelspec": {
   "display_name": "Python 3 (ipykernel)",
   "language": "python",
   "name": "python3"
  },
  "language_info": {
   "codemirror_mode": {
    "name": "ipython",
    "version": 3
   },
   "file_extension": ".py",
   "mimetype": "text/x-python",
   "name": "python",
   "nbconvert_exporter": "python",
   "pygments_lexer": "ipython3",
   "version": "3.10.16"
  }
 },
 "nbformat": 4,
 "nbformat_minor": 5
}
